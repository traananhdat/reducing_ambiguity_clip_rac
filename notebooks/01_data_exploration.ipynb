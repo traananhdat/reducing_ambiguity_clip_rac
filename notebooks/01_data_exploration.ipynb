# In a Jupyter Notebook cell

# 01_data_exploration.ipynb

# # 1. Setup and Imports
# Import necessary libraries for data loading, analysis, and visualization.

import os
import sys
import numpy as np
import pandas as pd
import matplotlib.pyplot as plt
import seaborn as sns
from PIL import Image
from tqdm import tqdm
import random

# Add src to path to import custom modules (if needed for utility functions)
# Adjust the path as necessary if your notebook is not in the project root
module_path = os.path.abspath(os.path.join('..')) # Assuming notebooks are in a 'notebooks' folder
if module_path not in sys.path:
    sys.path.append(module_path)

# from src.utils.general_utils import load_yaml_config # Example if you use a config for paths

# Set plot styles
plt.style.use('ggplot')
sns.set_palette("pastel")

# # 2. Configuration and Data Paths
# Define paths to your raw data. You might load these from a config file or define them directly.

# Example: Load from a base config if you have one
# try:
#     config = load_yaml_config('../src/configs/base_config.yaml')
#     RAW_DATA_ROOT = config.get('data_root', '../data/') + 'raw/'
# except FileNotFoundError:
#     print("Base config not found, setting RAW_DATA_ROOT manually.")
RAW_DATA_ROOT = '../data/raw/' # Adjust if your notebook is elsewhere

# Specify product(s) to explore
# For this example, let's assume we're exploring 'product_A'
PRODUCT_NAME = "product_A"
AUTHENTIC_DIR_NAME = f"authentic_{PRODUCT_NAME}"
COUNTERFEIT_DIR_NAME = f"counterfeit_{PRODUCT_NAME}"

AUTHENTIC_PATH = os.path.join(RAW_DATA_ROOT, AUTHENTIC_DIR_NAME)
COUNTERFEIT_PATH = os.path.join(RAW_DATA_ROOT, COUNTERFEIT_DIR_NAME)

print(f"Exploring data for product: {PRODUCT_NAME}")
print(f"Path for authentic images: {AUTHENTIC_PATH}")
print(f"Path for counterfeit images: {COUNTERFEIT_PATH}")

# # 3. Load File Paths and Basic Statistics
# Gather all image file paths and count the number of images per class.

def get_image_files(directory_path):
    """Collects all image files from a directory."""
    image_files = []
    if not os.path.isdir(directory_path):
        print(f"Warning: Directory not found: {directory_path}")
        return image_files
        
    for filename in os.listdir(directory_path):
        if filename.lower().endswith(('.png', '.jpg', '.jpeg', '.bmp', '.gif', '.tiff')):
            image_files.append(os.path.join(directory_path, filename))
    return image_files

authentic_images = get_image_files(AUTHENTIC_PATH)
counterfeit_images = get_image_files(COUNTERFEIT_PATH)

num_authentic = len(authentic_images)
num_counterfeit = len(counterfeit_images)
total_images = num_authentic + num_counterfeit

print(f"\nNumber of authentic '{PRODUCT_NAME}' images: {num_authentic}")
print(f"Number of counterfeit '{PRODUCT_NAME}' images: {num_counterfeit}")
print(f"Total images for '{PRODUCT_NAME}': {total_images}")

# Create a DataFrame for easier analysis
data_authentic = pd.DataFrame({'filepath': authentic_images, 'label': 'authentic', 'product': PRODUCT_NAME})
data_counterfeit = pd.DataFrame({'filepath': counterfeit_images, 'label': 'counterfeit', 'product': PRODUCT_NAME})
df_product = pd.concat([data_authentic, data_counterfeit], ignore_index=True)

# Display class distribution
plt.figure(figsize=(6, 4))
sns.countplot(x='label', data=df_product)
plt.title(f'Class Distribution for {PRODUCT_NAME}')
plt.xlabel('Label')
plt.ylabel('Number of Images')
plt.show()

# # 4. Image Properties Analysis
# Analyze properties like image dimensions, aspect ratios, and file types/sizes.

image_properties = []

def analyze_image(filepath, label):
    try:
        with Image.open(filepath) as img:
            width, height = img.size
            aspect_ratio = width / height if height > 0 else 0
            mode = img.mode # e.g., 'RGB', 'L' (grayscale), 'RGBA'
            file_size = os.path.getsize(filepath) / 1024 # in KB
            return {
                'filepath': filepath,
                'label': label,
                'width': width,
                'height': height,
                'aspect_ratio': aspect_ratio,
                'mode': mode,
                'size_kb': file_size
            }
    except Exception as e:
        print(f"Error analyzing image {filepath}: {e}")
        return None

print("\nAnalyzing image properties (this might take a while for large datasets)...")
for index, row in tqdm(df_product.iterrows(), total=df_product.shape[0]):
    props = analyze_image(row['filepath'], row['label'])
    if props:
        image_properties.append(props)

df_props = pd.DataFrame(image_properties)

if not df_props.empty:
    # ## 4.1. Image Dimensions
    plt.figure(figsize=(12, 5))
    plt.subplot(1, 2, 1)
    sns.histplot(df_props['width'], kde=True, bins=30)
    plt.title('Distribution of Image Widths')
    plt.subplot(1, 2, 2)
    sns.histplot(df_props['height'], kde=True, bins=30)
    plt.title('Distribution of Image Heights')
    plt.tight_layout()
    plt.show()

    plt.figure(figsize=(8, 6))
    sns.scatterplot(data=df_props, x='width', y='height', hue='label', alpha=0.6)
    plt.title('Image Dimensions (Width vs. Height) by Label')
    plt.show()

    print("\nSummary statistics for image dimensions:")
    print(df_props[['width', 'height', 'aspect_ratio']].describe())

    # ## 4.2. Image Modes (Color Channels)
    plt.figure(figsize=(7, 5))
    sns.countplot(data=df_props, x='mode', hue='label')
    plt.title('Distribution of Image Modes by Label')
    plt.show()
    print("\nImage mode counts:")
    print(df_props.groupby('label')['mode'].value_counts())

    # ## 4.3. File Sizes
    plt.figure(figsize=(8, 5))
    sns.histplot(data=df_props, x='size_kb', hue='label', kde=True, bins=30, multiple="stack")
    plt.title('Distribution of Image File Sizes (KB)')
    plt.show()
    print("\nSummary statistics for file sizes (KB):")
    print(df_props['size_kb'].describe())
else:
    print("No image properties to display.")


# # 5. Visualize Sample Images
# Display a few random sample images from each class to get a qualitative feel for the data.

def display_sample_images(image_paths, num_samples=5, title="Sample Images"):
    if not image_paths:
        print(f"No images to display for '{title}'")
        return
        
    sample_paths = random.sample(image_paths, min(num_samples, len(image_paths)))
    
    plt.figure(figsize=(15, num_samples * 1.5 if num_samples <=5 else 15)) # Adjust figure size
    plt.suptitle(title, fontsize=16)
    
    cols = min(5, num_samples) # Display up to 5 images per row
    rows = (len(sample_paths) + cols - 1) // cols
    
    for i, img_path in enumerate(sample_paths):
        plt.subplot(rows, cols, i + 1)
        try:
            img = Image.open(img_path)
            plt.imshow(img)
            plt.title(os.path.basename(img_path), fontsize=8)
            plt.axis('off')
        except Exception as e:
            plt.title(f"Error: {os.path.basename(img_path)}", fontsize=8, color='red')
            print(f"Could not display image {img_path}: {e}")
            plt.axis('off')
            
    plt.tight_layout(rect=[0, 0, 1, 0.95]) # Adjust layout for suptitle
    plt.show()

print("\nDisplaying sample authentic images:")
display_sample_images(authentic_images, num_samples=10, title=f"Sample Authentic {PRODUCT_NAME} Images")

print("\nDisplaying sample counterfeit images:")
display_sample_images(counterfeit_images, num_samples=10, title=f"Sample Counterfeit {PRODUCT_NAME} Images")

# # 6. Data Quality Checks (Optional)
# - Check for corrupted images (already partially handled in analyze_image)
# - Check for near-duplicates (more advanced, might use image hashing or feature similarity)
# - Check for obviously mislabeled samples (requires manual inspection or outlier detection)

print("\nRunning basic data quality checks...")
corrupted_files = df_product[~df_product['filepath'].isin(df_props['filepath'])]
if not corrupted_files.empty:
    print(f"Found {len(corrupted_files)} files that could not be opened/analyzed (potentially corrupted):")
    for fpath in corrupted_files['filepath']:
        print(f"  - {fpath}")
else:
    print("No corrupted files found based on initial analysis.")

# Consider adding more sophisticated checks if needed, e.g., image hashing for duplicates.

# # 7. Summary and Next Steps
# - Summarize key findings from the EDA.
# - What are the implications for preprocessing (e.g., resizing, color conversion)?
# - Are there class imbalances?
# - Are there noticeable visual differences between authentic and counterfeit that EDA highlights?
# - Potential challenges (e.g., highly variable image sizes, low N).

print(f"\n## EDA Summary for {PRODUCT_NAME}:")
if not df_props.empty:
    print(f"- **Image Counts**: Authentic: {num_authentic}, Counterfeit: {num_counterfeit}")
    print(f"- **Dimensions**: Min Width: {df_props['width'].min()}, Max Width: {df_props['width'].max()}, Avg Width: {df_props['width'].mean():.0f}")
    print(f"                Min Height: {df_props['height'].min()}, Max Height: {df_props['height'].max()}, Avg Height: {df_props['height'].mean():.0f}")
    common_modes = df_props['mode'].value_counts()
    print(f"- **Image Modes**: Most common is '{common_modes.index[0]}' ({common_modes.iloc[0]} images). Others: {dict(common_modes.iloc[1:])}")
    # Add more summary points based on your findings.
else:
    print("Could not generate detailed summary as image property analysis failed or yielded no data.")

print("\n## Potential Next Steps:")
print("- **Preprocessing**: Standardize image sizes (e.g., to 224x224 for CLIP). Ensure all images are RGB.")
print("- **Augmentation**: Consider appropriate augmentations for training if dataset is small.")
print("- **Data Splits**: Plan for creating robust training, validation, and test splits.")
if num_authentic == 0 or num_counterfeit == 0:
    print(f"- **Warning**: One or more classes for '{PRODUCT_NAME}' has zero images. Cannot proceed with training for this product as is.")
elif abs(num_authentic - num_counterfeit) > (total_images * 0.3): # Example imbalance threshold
    print("- **Class Imbalance**: Noted. Consider re-sampling techniques or class weights if severe.")

print("\nEDA notebook finished.")